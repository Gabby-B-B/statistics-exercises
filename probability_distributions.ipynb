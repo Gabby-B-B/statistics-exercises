{
 "cells": [
  {
   "cell_type": "code",
   "execution_count": 3,
   "metadata": {},
   "outputs": [],
   "source": [
    "## Setting up the jupyter notebook\n",
    "import matplotlib.pyplot as plt\n",
    "import numpy as np\n",
    "from scipy import stats\n",
    "np.random.seed(123)"
   ]
  },
  {
   "cell_type": "markdown",
   "metadata": {},
   "source": [
    "<h1> Question # 1:</h1>\n",
    "A bank found that the average number of cars waiting during the noon hour at a drive-up window follows a Poisson distribution with a mean of 2 cars. Make a chart of this distribution and answer these questions concerning the probability of cars waiting at the drive-up window.\n",
    "<ul>\n",
    "<li>What is the probability that no cars drive up in the noon hour? </li>\n",
    "<li>What is the probability that 3 or more cars come through the drive through? </li>\n",
    "<li>How likely is it that the drive through gets at least 1 car? </li>\n",
    "    </ul>"
   ]
  },
  {
   "cell_type": "code",
   "execution_count": 85,
   "metadata": {},
   "outputs": [
    {
     "name": "stdout",
     "output_type": "stream",
     "text": [
      "The probability of no bank patrons is 0.13582\n"
     ]
    }
   ],
   "source": [
    "bank_patrons= stats.poisson(2).pmf(0)\n",
    "no_bank_patrons= (np.random.poisson(2,100000)==0).mean()\n",
    "print(\"The probability of no bank patrons is\", no_bank_patrons)"
   ]
  },
  {
   "cell_type": "code",
   "execution_count": 21,
   "metadata": {},
   "outputs": [
    {
     "name": "stdout",
     "output_type": "stream",
     "text": [
      "The probability of more than three bank patrons is 0.18044704431548356\n"
     ]
    }
   ],
   "source": [
    "more_than_three= stats.poisson(2).pmf(3)\n",
    "print(\"The probability of more than three bank patrons is\", more_than_three)"
   ]
  },
  {
   "cell_type": "code",
   "execution_count": 22,
   "metadata": {},
   "outputs": [
    {
     "name": "stdout",
     "output_type": "stream",
     "text": [
      "The probability of more than one bank patron is 0.2706705664732254\n"
     ]
    }
   ],
   "source": [
    "more_than_one= stats.poisson(2).pmf(1)\n",
    "print(\"The probability of more than one bank patron is\", more_than_one)"
   ]
  },
  {
   "cell_type": "code",
   "execution_count": 19,
   "metadata": {},
   "outputs": [
    {
     "data": {
      "text/plain": [
       "Text(0, 0.5, '$P(X = x)$')"
      ]
     },
     "execution_count": 19,
     "metadata": {},
     "output_type": "execute_result"
    },
    {
     "data": {
      "image/png": "[encoded data removed]",
      "text/plain": [
       "<Figure size 432x288 with 1 Axes>"
      ]
     },
     "metadata": {
      "needs_background": "light"
     },
     "output_type": "display_data"
    }
   ],
   "source": [
    "x = np.arange(0, 10)\n",
    "y = stats.poisson(2).pmf(x)\n",
    "plt.bar(x, y, color =\"Brown\")\n",
    "plt.title('What does the poisson distribution look like for bank patrons?')\n",
    "plt.xlabel('$x$')\n",
    "plt.ylabel('$P(X = x)$')"
   ]
  },
  {
   "cell_type": "markdown",
   "metadata": {},
   "source": [
    "<h1> Question # 2:</h1>\n",
    "Grades of State University graduates are normally distributed with a mean of 3.0 and a standard deviation of .3. Calculate the following:\n",
    "<ul>\n",
    "<li>What grade point average is required to be in the top 5% of the graduating class?</li>\n",
    "<li>What GPA constitutes the bottom 15% of the class?</li>\n",
    "<li>An eccentric alumnus left scholarship money for students in the third decile from the bottom of their class. Determine the range of the third decile. Would a student with a 2.8 grade point average qualify for this scholarship? </li>\n",
    "<li>If I have a GPA of 3.5, what percentile am I in?</li>\n",
    "    </ul>"
   ]
  },
  {
   "cell_type": "code",
   "execution_count": 104,
   "metadata": {},
   "outputs": [],
   "source": [
    "μ = 3.0\n",
    "σ = 0.3\n",
    "\n",
    "grades = stats.norm(μ, σ)"
   ]
  },
  {
   "cell_type": "code",
   "execution_count": 105,
   "metadata": {},
   "outputs": [
    {
     "name": "stdout",
     "output_type": "stream",
     "text": [
      "3.4934560880854417\n"
     ]
    }
   ],
   "source": [
    "top_5_percent_cutoff = grades.isf(.05)\n",
    "print(top_5_percent_cutoff)"
   ]
  },
  {
   "cell_type": "code",
   "execution_count": 29,
   "metadata": {},
   "outputs": [
    {
     "data": {
      "text/plain": [
       "2.689069983151863"
      ]
     },
     "execution_count": 29,
     "metadata": {},
     "output_type": "execute_result"
    }
   ],
   "source": [
    "bottom_15_cutoff= grades.ppf(0.15)\n",
    "bottom_15_cutoff"
   ]
  },
  {
   "cell_type": "code",
   "execution_count": 30,
   "metadata": {},
   "outputs": [
    {
     "data": {
      "text/plain": [
       "2.842679846187588"
      ]
     },
     "execution_count": 30,
     "metadata": {},
     "output_type": "execute_result"
    }
   ],
   "source": [
    "third_decile_from_bottom=grades.ppf(0.3)\n",
    "third_decile_from_bottom"
   ]
  },
  {
   "cell_type": "code",
   "execution_count": 87,
   "metadata": {},
   "outputs": [
    {
     "name": "stdout",
     "output_type": "stream",
     "text": [
      "You are in the top 4.78 %\n"
     ]
    }
   ],
   "source": [
    "what_perc=stats.norm(μ, σ).cdf(3.5)\n",
    "what_perc=100-(what_perc*100)\n",
    "print(\"You are in the top\", round(what_perc, 2), \"%\")"
   ]
  },
  {
   "cell_type": "markdown",
   "metadata": {},
   "source": [
    "<h1> Question # 3:</h1>\n",
    "A marketing website has an average click-through rate of 2%. One day they observe 4326 visitors and 97 click-throughs. How likely is it that this many people or more click through?"
   ]
  },
  {
   "cell_type": "code",
   "execution_count": 95,
   "metadata": {},
   "outputs": [
    {
     "data": {
      "text/plain": [
       "0.1397582363130086"
      ]
     },
     "execution_count": 95,
     "metadata": {},
     "output_type": "execute_result"
    }
   ],
   "source": [
    "p= 0.02\n",
    "n= 4326\n",
    "market=stats.binom(n, p).sf(96)\n",
    "market"
   ]
  },
  {
   "cell_type": "markdown",
   "metadata": {},
   "source": [
    "<h1> Question # 4:</h1>\n",
    "You are working on some statistics homework consisting of 100 questions where all of the answers are a probability rounded to the hundreths place. Looking to save time, you put down random probabilities as the answer to each question.\n",
    "<ul>\n",
    "<li>\n",
    "    What is the probability that at least one of your first 60 answers is correct? </li> </ul>"
   ]
  },
  {
   "cell_type": "code",
   "execution_count": 102,
   "metadata": {},
   "outputs": [
    {
     "name": "stdout",
     "output_type": "stream",
     "text": [
      "You have a 45.28 % chance of getting at least one in your first 60 questions correct.\n"
     ]
    }
   ],
   "source": [
    "x= 0.01\n",
    "y= 60\n",
    "grades= stats.binom(y, x).sf(0)\n",
    "grades= grades*100\n",
    "print(\"You have a\",round(grades,2),\"% chance of getting at least one in your first 60 questions correct.\")"
   ]
  },
  {
   "cell_type": "markdown",
   "metadata": {},
   "source": [
    "<h1> Question # 5:</h1>\n",
    "The codeup staff tends to getupset when the student break area is not cleaned up. Suppose that there's a 3% chance that any one student cleans the break area when they visit it, and, on any given day, about 90% of the 3 active cohorts of 22 students visit the break area. How likely is it that the break area gets cleaned up each day? How likely is it that it goes two days without getting cleaned up? All week?"
   ]
  },
  {
   "cell_type": "code",
   "execution_count": 107,
   "metadata": {},
   "outputs": [
    {
     "data": {
      "text/plain": [
       "0.8342199288437355"
      ]
     },
     "execution_count": 107,
     "metadata": {},
     "output_type": "execute_result"
    }
   ],
   "source": [
    "b = .03\n",
    "c = round(.9 * 3 * 22)\n",
    "\n",
    "stats.binom(c, b).sf(0)"
   ]
  },
  {
   "cell_type": "code",
   "execution_count": 112,
   "metadata": {},
   "outputs": [
    {
     "data": {
      "text/plain": [
       "0.02748303199257618"
      ]
     },
     "execution_count": 112,
     "metadata": {},
     "output_type": "execute_result"
    }
   ],
   "source": [
    "two_days= 1 - stats.binom(c * 2, b).sf(0)\n",
    "two_days"
   ]
  },
  {
   "cell_type": "code",
   "execution_count": 113,
   "metadata": {},
   "outputs": [
    {
     "data": {
      "text/plain": [
       "0.00012521651388086585"
      ]
     },
     "execution_count": 113,
     "metadata": {},
     "output_type": "execute_result"
    }
   ],
   "source": [
    "d = .03\n",
    "s = round(.9 * 3 * 22)\n",
    "\n",
    "one_week= 1 - stats.binom(s * 5, d).sf(0)\n",
    "one_week"
   ]
  },
  {
   "cell_type": "markdown",
   "metadata": {},
   "source": [
    "<h1> Question # 6:</h1>\n",
    "You want to get lunch at La Panaderia, but notice that the line is usually very long at lunchtime. After several weeks of careful observation, you notice that the average number of people in line when your lunch break starts is normally distributed with a mean of 15 and standard deviation of 3. If it takes 2 minutes for each person to order, and 10 minutes from ordering to getting your food, what is the likelihood that you have at least 15 minutes left to eat your food before you have to go back to class? Assume you have one hour for lunch, and ignore travel time to and from La Panaderia."
   ]
  },
  {
   "cell_type": "code",
   "execution_count": 106,
   "metadata": {},
   "outputs": [
    {
     "ename": "TypeError",
     "evalue": "unsupported operand type(s) for *: 'rv_frozen' and 'int'",
     "output_type": "error",
     "traceback": [
      "\u001b[0;31m---------------------------------------------------------------------------\u001b[0m",
      "\u001b[0;31mTypeError\u001b[0m                                 Traceback (most recent call last)",
      "\u001b[0;32m<ipython-input-106-afc0f316b80d>\u001b[0m in \u001b[0;36m<module>\u001b[0;34m\u001b[0m\n\u001b[1;32m      2\u001b[0m \u001b[0my\u001b[0m\u001b[0;34m=\u001b[0m\u001b[0;36m3\u001b[0m\u001b[0;34m\u001b[0m\u001b[0;34m\u001b[0m\u001b[0m\n\u001b[1;32m      3\u001b[0m \u001b[0mpatrons\u001b[0m\u001b[0;34m=\u001b[0m \u001b[0mstats\u001b[0m\u001b[0;34m.\u001b[0m\u001b[0mnorm\u001b[0m\u001b[0;34m(\u001b[0m\u001b[0mx\u001b[0m\u001b[0;34m,\u001b[0m\u001b[0my\u001b[0m\u001b[0;34m)\u001b[0m\u001b[0;34m\u001b[0m\u001b[0;34m\u001b[0m\u001b[0m\n\u001b[0;32m----> 4\u001b[0;31m \u001b[0mminutes\u001b[0m\u001b[0;34m=\u001b[0m \u001b[0mpatrons\u001b[0m\u001b[0;34m*\u001b[0m\u001b[0;36m2\u001b[0m\u001b[0;34m\u001b[0m\u001b[0;34m\u001b[0m\u001b[0m\n\u001b[0m\u001b[1;32m      5\u001b[0m \u001b[0mtotal_time\u001b[0m\u001b[0;34m=\u001b[0m \u001b[0mminutes\u001b[0m\u001b[0;34m+\u001b[0m\u001b[0;36m10\u001b[0m\u001b[0;34m\u001b[0m\u001b[0;34m\u001b[0m\u001b[0m\n\u001b[1;32m      6\u001b[0m \u001b[0mi_need_to_eat\u001b[0m\u001b[0;34m=\u001b[0m \u001b[0mtotal_time\u001b[0m\u001b[0;34m.\u001b[0m\u001b[0msf\u001b[0m\u001b[0;34m(\u001b[0m\u001b[0;36m15\u001b[0m\u001b[0;34m)\u001b[0m\u001b[0;34m\u001b[0m\u001b[0;34m\u001b[0m\u001b[0m\n",
      "\u001b[0;31mTypeError\u001b[0m: unsupported operand type(s) for *: 'rv_frozen' and 'int'"
     ]
    }
   ],
   "source": [
    "x= 15\n",
    "y=3\n",
    "patrons= stats.norm(x,y)\n",
    "minutes= patrons*2\n",
    "total_time= minutes+10\n",
    "i_need_to_eat= total_time.sf(15)"
   ]
  },
  {
   "cell_type": "markdown",
   "metadata": {},
   "source": [
    "<h1> Question # 7:</h1>\n",
    "Connect to the employees database and find the average salary of current employees, along with the standard deviation. For the following questions, calculate the answer based on modeling the employees salaries with a normal distribution defined by the calculated mean and standard deviation then compare this answer to the actual values present in the salaries dataset.\n",
    "<ol>\n",
    "<li>What percent of employees earn less than 60,000? </li>\n",
    "<li>What percent of employees earn more than 95,000?</li>\n",
    "<li>What percent of employees earn between 65,000 and 80,000?</li>\n",
    "<li>What do the top 5% of employees make?</li>\n",
    "</ol>"
   ]
  },
  {
   "cell_type": "code",
   "execution_count": null,
   "metadata": {},
   "outputs": [],
   "source": []
  }
 ],
 "metadata": {
  "kernelspec": {
   "display_name": "Python 3",
   "language": "python",
   "name": "python3"
  },
  "language_info": {
   "codemirror_mode": {
    "name": "ipython",
    "version": 3
   },
   "file_extension": ".py",
   "mimetype": "text/x-python",
   "name": "python",
   "nbconvert_exporter": "python",
   "pygments_lexer": "ipython3",
   "version": "3.7.6"
  }
 },
 "nbformat": 4,
 "nbformat_minor": 4
}
