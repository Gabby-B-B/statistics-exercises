{
 "cells": [
  {
   "cell_type": "code",
   "execution_count": 60,
   "metadata": {},
   "outputs": [],
   "source": [
    "##setting up my jupyter notebook\n",
    "%matplotlib inline\n",
    "import numpy as np\n",
    "import pandas as pd\n",
    "import random\n",
    "import matplotlib.pyplot as plt "
   ]
  },
  {
   "cell_type": "markdown",
   "metadata": {},
   "source": [
    "<h1> Question #1</h1>\n",
    "How likely is it that you roll doubles when rolling two dice? </li>"
   ]
  },
  {
   "cell_type": "code",
   "execution_count": 77,
   "metadata": {},
   "outputs": [
    {
     "name": "stdout",
     "output_type": "stream",
     "text": [
      "The probability you roll doubles when rolling two dice is 0.16723\n"
     ]
    }
   ],
   "source": [
    "a_dice= np.random.choice([1,2,3,4,5,6], size=100_000)\n",
    "b_dice=np.random.choice([1,2,3,4,5,6], size=100_000)\n",
    "doubles=(a_dice==b_dice).mean()\n",
    "print(\"The probability you roll doubles when rolling two dice is\", doubles)"
   ]
  },
  {
   "cell_type": "markdown",
   "metadata": {},
   "source": [
    "<h1> Question # 2 </h1>\n",
    "If you flip 8 coins, what is the probability of getting exactly 3 heads? What is the probability of getting more than 3 heads?"
   ]
  },
  {
   "cell_type": "code",
   "execution_count": 46,
   "metadata": {},
   "outputs": [
    {
     "data": {
      "text/plain": [
       "array([[1, 0, 0, ..., 0, 1, 1],\n",
       "       [0, 0, 1, ..., 0, 1, 1],\n",
       "       [1, 0, 1, ..., 0, 1, 1],\n",
       "       ...,\n",
       "       [1, 1, 1, ..., 0, 0, 0],\n",
       "       [0, 1, 0, ..., 0, 0, 0],\n",
       "       [0, 0, 1, ..., 1, 0, 0]])"
      ]
     },
     "execution_count": 46,
     "metadata": {},
     "output_type": "execute_result"
    }
   ],
   "source": [
    "##setting up the variagbles and assigning the same vlue to 2 variables\n",
    "n_trials= n_rows = 10_000\n",
    "n_coins= n_cols= 8\n",
    "#setting up heads ==1 and tails ==0\n",
    "flip_coin= np.random.choice([1,0], n_trials*n_coins).reshape(n_rows, n_cols)\n",
    "flip_coin"
   ]
  },
  {
   "cell_type": "code",
   "execution_count": 50,
   "metadata": {},
   "outputs": [
    {
     "data": {
      "text/plain": [
       "array([1, 0, 0, 0, 0, 0, 1, 1])"
      ]
     },
     "execution_count": 50,
     "metadata": {},
     "output_type": "execute_result"
    }
   ],
   "source": [
    "flip_coin[0]"
   ]
  },
  {
   "cell_type": "code",
   "execution_count": 56,
   "metadata": {},
   "outputs": [
    {
     "data": {
      "text/plain": [
       "3"
      ]
     },
     "execution_count": 56,
     "metadata": {},
     "output_type": "execute_result"
    }
   ],
   "source": [
    "number_of_heads= flip_coin.sum(axis=1)\n",
    "number_of_heads[0]"
   ]
  },
  {
   "cell_type": "code",
   "execution_count": 75,
   "metadata": {},
   "outputs": [
    {
     "name": "stdout",
     "output_type": "stream",
     "text": [
      "The probability of getting exactly three heads out of 8 coins is 0.213\n"
     ]
    }
   ],
   "source": [
    "exactly_three=(number_of_heads == 3).mean() ##probability of getting exactly 3 heads\n",
    "print(\"The probability of getting exactly three heads out of 8 coins is\", exactly_three)"
   ]
  },
  {
   "cell_type": "code",
   "execution_count": 76,
   "metadata": {},
   "outputs": [
    {
     "name": "stdout",
     "output_type": "stream",
     "text": [
      "The probability of getting exactly three heads out of 8 coins is 0.643\n"
     ]
    }
   ],
   "source": [
    "more_than_three=(number_of_heads > 3).mean() ##probability of getting more than 3 heads\n",
    "print(\"The probability of getting exactly three heads out of 8 coins is\", more_than_three)"
   ]
  },
  {
   "cell_type": "markdown",
   "metadata": {},
   "source": [
    "<h1> Question # 3 </h1>\n",
    "<li>There are approximitely 3 web development cohorts for every 1 data science cohort at Codeup. Assuming that Codeup randomly selects an alumni to put on a billboard, what are the odds that the two billboards I drive past both have data science students on them? </li>"
   ]
  },
  {
   "cell_type": "code",
   "execution_count": 64,
   "metadata": {},
   "outputs": [],
   "source": [
    "##dividing the students into 2 groups with the probability of which student they are\n",
    "student_types = np.random.choice([\"Web Development\", \"Data Science\"], size=(100_000, 2), p=[.75, .25])"
   ]
  },
  {
   "cell_type": "code",
   "execution_count": 65,
   "metadata": {},
   "outputs": [
    {
     "data": {
      "text/html": [
       "<div>\n",
       "<style scoped>\n",
       "    .dataframe tbody tr th:only-of-type {\n",
       "        vertical-align: middle;\n",
       "    }\n",
       "\n",
       "    .dataframe tbody tr th {\n",
       "        vertical-align: top;\n",
       "    }\n",
       "\n",
       "    .dataframe thead th {\n",
       "        text-align: right;\n",
       "    }\n",
       "</style>\n",
       "<table border=\"1\" class=\"dataframe\">\n",
       "  <thead>\n",
       "    <tr style=\"text-align: right;\">\n",
       "      <th></th>\n",
       "      <th>first_billboard</th>\n",
       "      <th>second_billboard</th>\n",
       "    </tr>\n",
       "  </thead>\n",
       "  <tbody>\n",
       "    <tr>\n",
       "      <th>0</th>\n",
       "      <td>Web Development</td>\n",
       "      <td>Web Development</td>\n",
       "    </tr>\n",
       "    <tr>\n",
       "      <th>1</th>\n",
       "      <td>Web Development</td>\n",
       "      <td>Web Development</td>\n",
       "    </tr>\n",
       "    <tr>\n",
       "      <th>2</th>\n",
       "      <td>Web Development</td>\n",
       "      <td>Web Development</td>\n",
       "    </tr>\n",
       "    <tr>\n",
       "      <th>3</th>\n",
       "      <td>Data Science</td>\n",
       "      <td>Web Development</td>\n",
       "    </tr>\n",
       "    <tr>\n",
       "      <th>4</th>\n",
       "      <td>Web Development</td>\n",
       "      <td>Web Development</td>\n",
       "    </tr>\n",
       "  </tbody>\n",
       "</table>\n",
       "</div>"
      ],
      "text/plain": [
       "   first_billboard second_billboard\n",
       "0  Web Development  Web Development\n",
       "1  Web Development  Web Development\n",
       "2  Web Development  Web Development\n",
       "3     Data Science  Web Development\n",
       "4  Web Development  Web Development"
      ]
     },
     "execution_count": 65,
     "metadata": {},
     "output_type": "execute_result"
    }
   ],
   "source": [
    "##making a datafram that connects student types and billboards on the way to work\n",
    "billboards = pd.DataFrame(student_types)\n",
    "billboards.columns = [\"first_billboard\", \"second_billboard\"]\n",
    "billboards.head()"
   ]
  },
  {
   "cell_type": "code",
   "execution_count": 73,
   "metadata": {},
   "outputs": [
    {
     "name": "stdout",
     "output_type": "stream",
     "text": [
      "The probability of both billboards being data science students is 0.06297\n"
     ]
    }
   ],
   "source": [
    "billboards[\"both_ds\"] = (billboards.first_billboard == \"Data Science\") & (billboards.second_billboard == \"Data Science\")\n",
    "both_ds= billboards[\"both_ds\"].mean()\n",
    "print(\"The probability of both billboards being data science students is\", both_ds)"
   ]
  },
  {
   "cell_type": "markdown",
   "metadata": {},
   "source": [
    "<h1> Question # 4 </h1>\n",
    "<li>Codeup students buy, on average, 3 poptart packages (+- 1.5) a day from the snack vending machine. If on monday the machine is restocked with 17 poptart packages, how likely is it that I will be able to buy some poptarts on Friday afternoon? </li>"
   ]
  },
  {
   "cell_type": "code",
   "execution_count": 78,
   "metadata": {},
   "outputs": [
    {
     "data": {
      "text/plain": [
       "3.000058"
      ]
     },
     "execution_count": 78,
     "metadata": {},
     "output_type": "execute_result"
    }
   ],
   "source": [
    "##setting up the amount of poptarts sampled\n",
    "poptarts = np.round(np.random.normal(3, 1.5, size=(100_000, 5)))\n",
    "poptarts.mean()"
   ]
  },
  {
   "cell_type": "code",
   "execution_count": 79,
   "metadata": {},
   "outputs": [
    {
     "data": {
      "text/plain": [
       "array([3., 4., 2., 0., 2.])"
      ]
     },
     "execution_count": 79,
     "metadata": {},
     "output_type": "execute_result"
    }
   ],
   "source": [
    "##arranging poptarts into an array\n",
    "poptarts[0]"
   ]
  },
  {
   "cell_type": "code",
   "execution_count": 82,
   "metadata": {},
   "outputs": [
    {
     "data": {
      "text/plain": [
       "array([11., 14., 20., ..., 19., 11., 12.])"
      ]
     },
     "execution_count": 82,
     "metadata": {},
     "output_type": "execute_result"
    }
   ],
   "source": [
    "#determining how many poptarts are sold\n",
    "poptarts_sold= poptarts.sum(axis=1)\n",
    "poptarts_sold"
   ]
  },
  {
   "cell_type": "code",
   "execution_count": 85,
   "metadata": {},
   "outputs": [
    {
     "name": "stdout",
     "output_type": "stream",
     "text": [
      "The probability there will be poptarts by Friday is 0.669\n"
     ]
    }
   ],
   "source": [
    "poptarts_by_friday=(poptarts_sold < 17).mean()\n",
    "print(\"The probability there will be poptarts by Friday is\", poptarts_by_friday)"
   ]
  },
  {
   "cell_type": "markdown",
   "metadata": {},
   "source": [
    "<h1> Question # 5 </h1>\n",
    "    <ul>\n",
    "<li>Men have an average height of 178 cm and standard deviation of 8cm.</li>\n",
    "<li>Women have a mean of 170, sd = 6cm.</li>\n",
    "<li>If a man and woman are chosen at random, P(woman taller than man)?</li>\n",
    "    </ul>"
   ]
  },
  {
   "cell_type": "code",
   "execution_count": null,
   "metadata": {},
   "outputs": [],
   "source": []
  },
  {
   "cell_type": "markdown",
   "metadata": {},
   "source": [
    "<h1> Question # 6</h1>\n",
    "<li>When installing anaconda on a student's computer, there's a 1 in 250 chance that the download is corrupted and the installation fails. \n",
    "    <ul>\n",
    "      <li>  What are the odds that after having 50 students download anaconda, no one has an installation issue? 100 students?</li>\n",
    "<li>What is the probability that we observe an installation issue within the first 150 students that download anaconda?</li>\n",
    "        <li>How likely is it that 450 students all download anaconda without an issue?</li></ul>"
   ]
  },
  {
   "cell_type": "markdown",
   "metadata": {},
   "source": [
    "<h1> Question # 7</h1>\n",
    "<li> There's a 70% chance on any given day that there will be at least one food truck at Travis Park. However, you haven't seen a food truck there in 3 days. \n",
    "    <ul>\n",
    "        <li>How unlikely is this?</li>\n",
    "        <li>How likely is it that a food truck will show up sometime this week? </li></ul>"
   ]
  },
  {
   "cell_type": "code",
   "execution_count": 24,
   "metadata": {},
   "outputs": [
    {
     "data": {
      "text/plain": [
       "100000"
      ]
     },
     "execution_count": 24,
     "metadata": {},
     "output_type": "execute_result"
    }
   ],
   "source": [
    "## setting up simulated days where food truck may be present\n",
    "p_food = .7 ## 70% chance\n",
    "ndays = ncols = 7 # 7 days per week\n",
    "food_trucks = nrows = 10**5\n",
    "food_trucks"
   ]
  },
  {
   "cell_type": "code",
   "execution_count": 21,
   "metadata": {},
   "outputs": [
    {
     "data": {
      "text/plain": [
       "array([[0.59572093, 0.45732153, 0.98793252, ..., 0.20184298, 0.88043186,\n",
       "        0.77424335],\n",
       "       [0.15191609, 0.31354619, 0.60556524, ..., 0.80622332, 0.0217862 ,\n",
       "        0.25613227],\n",
       "       [0.75907199, 0.78487179, 0.55625964, ..., 0.55200351, 0.8976438 ,\n",
       "        0.66379811],\n",
       "       ...,\n",
       "       [0.73959478, 0.47455181, 0.578828  , ..., 0.25836004, 0.99804422,\n",
       "        0.7350159 ],\n",
       "       [0.4592678 , 0.33959034, 0.99602628, ..., 0.60771105, 0.60340649,\n",
       "        0.54150399],\n",
       "       [0.58770118, 0.11307632, 0.78634738, ..., 0.20543622, 0.07460487,\n",
       "        0.97108191]])"
      ]
     },
     "execution_count": 21,
     "metadata": {},
     "output_type": "execute_result"
    }
   ],
   "source": [
    "##calculating the probability of having a food truck present at travis park\n",
    "food = np.random.random((nrows, ncols))\n",
    "food"
   ]
  },
  {
   "cell_type": "code",
   "execution_count": 26,
   "metadata": {},
   "outputs": [
    {
     "data": {
      "text/plain": [
       "array([[ True,  True, False, ...,  True, False, False],\n",
       "       [ True,  True,  True, ..., False,  True,  True],\n",
       "       [False, False,  True, ...,  True, False,  True],\n",
       "       ...,\n",
       "       [False,  True,  True, ...,  True, False, False],\n",
       "       [ True,  True, False, ...,  True,  True,  True],\n",
       "       [ True,  True, False, ...,  True,  True, False]])"
      ]
     },
     "execution_count": 26,
     "metadata": {},
     "output_type": "execute_result"
    }
   ],
   "source": [
    "##converting probability to a bool\n",
    "travis_park = food < p_food\n",
    "travis_park"
   ]
  },
  {
   "cell_type": "code",
   "execution_count": 27,
   "metadata": {},
   "outputs": [
    {
     "data": {
      "text/plain": [
       "0.9997"
      ]
     },
     "execution_count": 27,
     "metadata": {},
     "output_type": "execute_result"
    }
   ],
   "source": [
    "(travis_park.sum(axis=1) >= 1).mean() ##probability that there will be a food truck on any given day"
   ]
  },
  {
   "cell_type": "code",
   "execution_count": 28,
   "metadata": {},
   "outputs": [
    {
     "data": {
      "text/plain": [
       "0.0003"
      ]
     },
     "execution_count": 28,
     "metadata": {},
     "output_type": "execute_result"
    }
   ],
   "source": [
    "(travis_park.sum(axis=1) == 0).mean() ##probability that there will be no food truck on any given day"
   ]
  },
  {
   "cell_type": "markdown",
   "metadata": {},
   "source": [
    "<h1> Question # 8</h1>\n",
    "<li> If 23 people are in the same room, what are the odds that two of them share a birthday? What if it's 20 people? 40? </li>"
   ]
  },
  {
   "cell_type": "code",
   "execution_count": 41,
   "metadata": {},
   "outputs": [
    {
     "data": {
      "text/plain": [
       "1.0"
      ]
     },
     "execution_count": 41,
     "metadata": {},
     "output_type": "execute_result"
    }
   ],
   "source": [
    "birthday_predictor_for_twenty_three= 1- ((365*(365*23 + 1))/365**23)\n",
    "birthday_predictor_for_twenty_three"
   ]
  },
  {
   "cell_type": "code",
   "execution_count": 86,
   "metadata": {},
   "outputs": [
    {
     "data": {
      "text/plain": [
       "1.0"
      ]
     },
     "execution_count": 86,
     "metadata": {},
     "output_type": "execute_result"
    }
   ],
   "source": [
    "birthday_predictor_for_twenty= 1- ((365*(365*20 + 1))/365**20)\n",
    "birthday_predictor_for_twenty"
   ]
  },
  {
   "cell_type": "code",
   "execution_count": 87,
   "metadata": {},
   "outputs": [
    {
     "data": {
      "text/plain": [
       "1.0"
      ]
     },
     "execution_count": 87,
     "metadata": {},
     "output_type": "execute_result"
    }
   ],
   "source": [
    "birthday_predictor_for_forty= 1- ((365*(365*40 + 1))/365**40)\n",
    "birthday_predictor_for_forty"
   ]
  }
 ],
 "metadata": {
  "kernelspec": {
   "display_name": "Python 3",
   "language": "python",
   "name": "python3"
  },
  "language_info": {
   "codemirror_mode": {
    "name": "ipython",
    "version": 3
   },
   "file_extension": ".py",
   "mimetype": "text/x-python",
   "name": "python",
   "nbconvert_exporter": "python",
   "pygments_lexer": "ipython3",
   "version": "3.7.6"
  }
 },
 "nbformat": 4,
 "nbformat_minor": 4
}
