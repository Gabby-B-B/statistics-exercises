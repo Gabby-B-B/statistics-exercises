{
 "cells": [
  {
   "cell_type": "code",
   "execution_count": 77,
   "metadata": {},
   "outputs": [],
   "source": [
    "import math\n",
    "import numpy as np\n",
    "import pandas as pd\n",
    "import matplotlib.pyplot as plt\n",
    "import seaborn as sns\n",
    "from scipy import stats\n",
    "from env import host, password, user\n",
    "from datetime import datetime as dt\n",
    "from pydataset import data"
   ]
  },
  {
   "cell_type": "code",
   "execution_count": 2,
   "metadata": {},
   "outputs": [],
   "source": [
    "plt.rc('figure', figsize=(16, 9))\n",
    "plt.rc('axes.spines', top=False, right=False)\n",
    "plt.rc('patch', ec='black', force_edgecolor=True)\n",
    "plt.rc('font', size=13)\n",
    "\n",
    "np.random.seed(13)"
   ]
  },
  {
   "cell_type": "markdown",
   "metadata": {},
   "source": [
    "Simulation Based Approach\n",
    "Example: Codeup starts producing a scratch off lottery ticket called \"Golden Codys\". The odds of winning a prize must be advertised to the state, and since we are manufacturing the tickets, we know exactly how many winners and losers there are.\n",
    "Theory: Our population is the 1000 tickets we have manufactured\n",
    "Implementation: Create a boolean pandas Series\n",
    "we model win with true and lose with false\n",
    "because of this, we can take the mean of a series to measure the likelihood of winning"
   ]
  },
  {
   "cell_type": "code",
   "execution_count": 3,
   "metadata": {},
   "outputs": [
    {
     "name": "stdout",
     "output_type": "stream",
     "text": [
      "The actual probability of winning is 0.25\n"
     ]
    },
    {
     "data": {
      "image/png": "[encoded data removed]",
      "text/plain": [
       "<Figure size 1152x648 with 1 Axes>"
      ]
     },
     "metadata": {
      "needs_background": "light"
     },
     "output_type": "display_data"
    }
   ],
   "source": [
    "tickets = pd.Series([True] * 250 + [False] * 750)\n",
    "tickets.value_counts().set_axis(['Lose', 'Win']).plot.bar()\n",
    "plt.xticks(rotation=0)\n",
    "print('The actual probability of winning is %.2f' % tickets.mean())"
   ]
  },
  {
   "cell_type": "markdown",
   "metadata": {},
   "source": [
    "Scenario: Each student in a classroom is given a Golden Cody scratch off at random\n",
    "Theory\n",
    "\n",
    "We we take a random sample and calculate the win rate, we won't expect to see exactly 25% even though we know that is what the overall rate is.\n",
    "\n",
    "Examples of biased samples:\n",
    "\n",
    "non-response: people that don't respond are a diff population\n",
    "undercoverage: some groups aren't well represented\n",
    "voluntary: people volunteer for surveys\n",
    "leading questions\n",
    "social desirability\n",
    "Implementation: Use the .sample method on our series to randomly choose 25 tickets, representing 25 students in a classroom. Use .mean to calculate what percentage of the values are True, or are winning tickets."
   ]
  },
  {
   "cell_type": "code",
   "execution_count": 4,
   "metadata": {},
   "outputs": [
    {
     "data": {
      "text/plain": [
       "0.12"
      ]
     },
     "execution_count": 4,
     "metadata": {},
     "output_type": "execute_result"
    }
   ],
   "source": [
    "n = 25\n",
    "tickets.sample(n).mean()"
   ]
  },
  {
   "cell_type": "markdown",
   "metadata": {},
   "source": [
    "Scenario: each student in 4 different cohorts is given a Golden Codys scratch off ticket, we want to calculate the win rate for each classroom.\n",
    "Theory: it is unlikely any classroom will have exactly a 25% winrate, instead we will see slightly different numbers for each classroom.\n",
    "Implementation: loop through a range of 5 to get a sample and calculate the winrate 5 times. Each of the 5 numbers produced represents the calculated winrate for one classroom of 25 students."
   ]
  },
  {
   "cell_type": "code",
   "execution_count": 5,
   "metadata": {},
   "outputs": [
    {
     "data": {
      "text/plain": [
       "[0.28, 0.28, 0.08, 0.24, 0.36]"
      ]
     },
     "execution_count": 5,
     "metadata": {},
     "output_type": "execute_result"
    }
   ],
   "source": [
    "iteration_of_students=[tickets.sample(n).mean() for _ in range(5)]\n",
    "iteration_of_students"
   ]
  },
  {
   "cell_type": "markdown",
   "metadata": {},
   "source": [
    "Theory\n",
    "\n",
    "The winrates we see aren't ever exactly 25%, but we would expect the rate to be closer to 25% than further away. That is, it is more likely that a classroom will come up with a win rate of 24% than a winrate of 10%.\n",
    "\n",
    "If we were to repeat this experiment a whole bunch of times, say 10,000, we would find that the calculated winrates are, in fact, normally distributed.\n",
    "\n",
    "That is, we would expect the calculated average winrate for a classroom to follow a normal distribution, even though the underlying random process is not based on a normal distribution\n",
    "\n",
    "Implementation: To visualize this, we'll create a series full of calculated winrates for 10,000 classrooms, each classroom made up of 25 students. That is, we will simulate 10,000 classrooms of 25 students getting Golden Codys and calculate the average winrate for each of the 10,000 classrooms."
   ]
  },
  {
   "cell_type": "code",
   "execution_count": 6,
   "metadata": {},
   "outputs": [],
   "source": [
    "calculated_winrates = pd.Series([tickets.sample(n).mean() for _ in range(10_000)])"
   ]
  },
  {
   "cell_type": "code",
   "execution_count": 7,
   "metadata": {},
   "outputs": [
    {
     "data": {
      "text/plain": [
       "<matplotlib.axes._subplots.AxesSubplot at 0x7f8e28e97810>"
      ]
     },
     "execution_count": 7,
     "metadata": {},
     "output_type": "execute_result"
    },
    {
     "data": {
      "image/png": "[encoded data removed]",
      "text/plain": [
       "<Figure size 1152x648 with 1 Axes>"
      ]
     },
     "metadata": {
      "needs_background": "light"
     },
     "output_type": "display_data"
    }
   ],
   "source": [
    "calculated_winrates.plot.hist(bins=15, color=\"DarkGoldenRod\")"
   ]
  },
  {
   "cell_type": "markdown",
   "metadata": {},
   "source": [
    "Theory\n",
    "\n",
    "The above visual represents the sampling distribution for the winrate of Golden Codys, based on a class of 25.\n",
    "\n",
    "The Central Limit Theorm says that sampling distribution will be normally distributed even if the underlying random variable isn't."
   ]
  },
  {
   "cell_type": "markdown",
   "metadata": {},
   "source": [
    "Mini Exercise -- CLT\n",
    "Calculate, theoretically (in your head is fine), the expected value for the average of 6 dice rolls.\n",
    "Write the code necessary to simulate taking the average of 6 dice rolls 10,000 times. Store each of the 10,000 averages in a list.\n",
    "Plot the distribution of the calculated averages. What do you notice about the shape of the distribution of calculated averages? What kind of distribution is the underlying random variable (i.e. one dice roll?)"
   ]
  },
  {
   "cell_type": "code",
   "execution_count": 8,
   "metadata": {},
   "outputs": [],
   "source": [
    "r= 6\n",
    "rolls = pd.DataFrame()\n",
    "rolls[\"die1\"] = np.random.choice([1, 2, 3, 4, 5, 6], size=10_000)\n"
   ]
  },
  {
   "cell_type": "code",
   "execution_count": 9,
   "metadata": {},
   "outputs": [
    {
     "data": {
      "text/plain": [
       "0            die1    4.5\n",
       "dtype: float64\n",
       "1            die1    4.0\n",
       "dtype: float64\n",
       "2       die1    4.333333\n",
       "dtype: float64\n",
       "3            die1    4.0\n",
       "dtype: float64\n",
       "4       die1    3.166667\n",
       "dtype: float64\n",
       "                     ...               \n",
       "9995    die1    3.333333\n",
       "dtype: float64\n",
       "9996    die1    4.333333\n",
       "dtype: float64\n",
       "9997    die1    4.666667\n",
       "dtype: float64\n",
       "9998    die1    3.166667\n",
       "dtype: float64\n",
       "9999         die1    2.5\n",
       "dtype: float64\n",
       "Length: 10000, dtype: object"
      ]
     },
     "execution_count": 9,
     "metadata": {},
     "output_type": "execute_result"
    }
   ],
   "source": [
    "pd.Series([rolls.sample(r).mean() for _ in range (10_000)])"
   ]
  },
  {
   "cell_type": "markdown",
   "metadata": {},
   "source": [
    "Theory: in practice, we won't have 10,000 samples to work with, but rather just 1. We can stil rely on the sampling distribution being normally distributed, and this has some intersting properties.\n",
    "the mean of the sampling distribution of the sample means will be the \"true\" mean\n",
    "the variance of the sampling distribution is the population variable divided by the sample size\n",
    "the standard deviation of the sampling distribution is pqn‾‾‾√ (for our example), aka the standard error"
   ]
  },
  {
   "cell_type": "code",
   "execution_count": 10,
   "metadata": {},
   "outputs": [],
   "source": [
    "se = math.sqrt((.25 * .75) / n)\n"
   ]
  },
  {
   "cell_type": "markdown",
   "metadata": {},
   "source": [
    "Let's compare our calculated standard error (i.e. the standard deviation of the sample means) to the experimental value:"
   ]
  },
  {
   "cell_type": "code",
   "execution_count": 11,
   "metadata": {},
   "outputs": [
    {
     "name": "stdout",
     "output_type": "stream",
     "text": [
      "SE:                 0.0866\n",
      "sample_means.std(): 0.0857\n"
     ]
    }
   ],
   "source": [
    "print('SE:                 %.4f' % se)\n",
    "print('sample_means.std(): %.4f' % calculated_winrates.std())"
   ]
  },
  {
   "cell_type": "markdown",
   "metadata": {},
   "source": [
    "That the sampling distribution being normally distributed is very powerful and has important implications:\n",
    "\n",
    "confidence intervals for population parameter estimates (e.g. estimating the population mean)\n",
    "as n goes up, interval becomes smaller\n",
    "as certainty goes up, interval becomes larger\n",
    "99% of calculated CIs will contain the true mean (e.g. if we ran simulations and re-sampled, 99% of the simulations' calculated CIs would contain the true mean)\n",
    "hypothesis testing\n",
    "One classroom calculates their winrate at 20% and claims the tickets were distributed unfairly. What is the likelihood we observe a 20% (or smaller) winrate just due to chance?"
   ]
  },
  {
   "cell_type": "code",
   "execution_count": 12,
   "metadata": {},
   "outputs": [
    {
     "data": {
      "text/plain": [
       "0.28283511827393837"
      ]
     },
     "execution_count": 12,
     "metadata": {},
     "output_type": "execute_result"
    }
   ],
   "source": [
    "mean = calculated_winrates.mean()\n",
    "sd = calculated_winrates.std()\n",
    "\n",
    "stats.norm(mean, sd).cdf(.2)"
   ]
  },
  {
   "cell_type": "markdown",
   "metadata": {},
   "source": [
    "The probability we've calculated is a p-value. The likelihood that we observe the data that we have if the null hypothesis is true.\n",
    "\n",
    "Null and Alternative Hypothesis\n",
    "H0: status quo: no difference or no effect\n",
    "Ha: alternative: there is a difference or effect\n",
    "whether Ha is ≠, <, >, determines one-tailed vs two-tailed test\n",
    "< or > == one-tailed\n",
    "≠ == two-tailed\n",
    "Hypothesis Testing Results\n",
    "H0 is true\tH0 is false\n",
    "Fail to reject H0\tTN\tFN (Type II)\n",
    "Reject H0\tFP (Type I)\tTP"
   ]
  },
  {
   "cell_type": "markdown",
   "metadata": {},
   "source": [
    "# Mini Exercise -- Null + Alternate Hypothesis and Errors\n",
    "For each of the following scenarios: refine the question, generate a null and alternative hypothesis, and give examples of true positives, true negatives, type I and type II errors.\n",
    "<ul>\n",
    "    <li>Are the average grades in web development vs data science classes different? </li>\n",
    "    <li>Is there a relationship between how early a student shows up to class and their grade?</li>\n",
    "    <li>Are web dev or data science students more likely to be coffee drinkers?</li>\n",
    "    </ul>\n",
    "   "
   ]
  },
  {
   "cell_type": "markdown",
   "metadata": {},
   "source": [
    "# Null Hypothesis\n",
    "<ol>\n",
    "<li>Null hypothesis: There is no difference in grades between web development and data science classes. </li>\n",
    "<li> Null hypothesis: There is no relationship between class arrival time and grades.</li>\n",
    "<li> Null hypothesis: Neither web dev or data science students are more likely to drink coffee.</li>\n",
    "    </ol>\n",
    "    \n",
    "    \n",
    "# Alternative Hypothesis\n",
    "\n",
    "\n",
    "<ol>\n",
    "    <li>Alternative hypothesis: The data science students have a higher grade average than web dev students.</li>\n",
    "<li>Alternative hypothesis: The students who arrive 15 minutes early are likely to have a higher grade average than those who arrive on time.</li>\n",
    "<li>Alternative hypothesis: The web dev students are less likely to be coffee drinkers than data science students.</li>\n",
    "    </ol>\n",
    "\n",
    "# True Positive:\n",
    "<ol>\n",
    "    <li> The data science students have a higher grade average than web dev students.</li>\n",
    "    <li> The students who arrive early to class have a higher grade average than those who arrive on time.</li>\n",
    "    <li> The web dev students drink more coffee than data science students.</li>\n",
    "        </ol>\n",
    "\n",
    "# True Negative:\n",
    "<ol>\n",
    "    <li> The data science students have a lower grade average than web dev students.</li>\n",
    "    <li> The students who arrive early to class have a lower grade average than those who arrive on time.</li>\n",
    "    <li> The web dev students drink less coffee than data science students.</li>\n",
    "        </ol>\n",
    "        \n",
    "# Type I error:\n",
    "A type I error is when we reject the null hypothesis, but, in reality, the null hypothesis is true.\n",
    "<ol>\n",
    "    <li>Type I error occurred because the web dev class in Dallas was not counted.  </li>\n",
    "    <li> Type I error occured because class time entry was not accurately recorded.</li>\n",
    "    <li> Type I error occurred because some students were absent and they didn't give their coffee preference. </li>\n",
    " </ol>\n",
    "     \n",
    "# Type II Error\n",
    "A type II error is when we fail to reject the null hypothesis when it is actually false.\n",
    "<ol>\n",
    "    <li> Type II error occured because all of the web dev grades are up to date but the data science grades are not </li>\n",
    "    <li> The type II error occured because the grades had been given a curve. </li>\n",
    "    <li> The web dev students thought coffee meant any caffeinated beverage and filled out the survey incorrectly. </li>\n",
    "    </ol>"
   ]
  },
  {
   "cell_type": "markdown",
   "metadata": {},
   "source": [
    "For each of the following questions, formulate a null and alternative hypothesis (be as specific as you can be), then give an example of what a true positive, true negative, type I and type II errors would look like. Note that some of the questions are intentionally phrased in a vague way. It is your job to reword these as more precise questions that could be tested.\n",
    "<ul>\n",
    "    <li>Has the network latency gone up since we switched internet service providers? </li>\n",
    "<li>Is the website redesign any good? </li>\n",
    "    <li>Is our television ad driving more sales? </li>\n",
    "</ul>"
   ]
  },
  {
   "cell_type": "markdown",
   "metadata": {},
   "source": [
    "Rewording the questions:\n",
    "<ul>\n",
    "    <li> Has the network latency time improved since switching internet service providers? </li>\n",
    "    <li> Has the website redesign generated more client click throughs? </li>\n",
    "    <li> Since airing the new television ad, have we generated more new customer sales than before the new ad?</li>"
   ]
  },
  {
   "cell_type": "markdown",
   "metadata": {},
   "source": [
    "# Null Hypothesis\n",
    "<ol>\n",
    "<li>Null hypothesis: There is no change in network latency since switching internet service providers. </li>\n",
    "<li> Null hypothesis: There is no relationship between click throughs and new web design.</li>\n",
    "<li> Null hypothesis: There has been no change in rate of new customer sales than before the new tv ad.</li>\n",
    "    </ol>\n",
    "# Alternative Hypothesis\n",
    "<ol>\n",
    "    <li>Alternative hypothesis: The network latency time has not improved since switching internet service providers.</li>\n",
    "<li>Alternative hypothesis: There are less click throughs on the site since the new web design.</li>\n",
    "<li>Alternative hypothesis: There are less new customer sales since the new ad has been aired on tv.</li>\n",
    "    </ol>\n",
    "\n",
    "# True Positive:\n",
    "<ol>\n",
    "    <li> There has been an improved latency time since switching internet service providers</li>\n",
    "    <li> There are more click throughs on the site since the new web design.</li>\n",
    "    <li> There are new customer sales since the new tv ad aired.</li>\n",
    "        </ol>\n",
    "\n",
    "# True Negative:\n",
    "<ol>\n",
    "     <li> There has not been an improved latency time since switching internet service providers</li>\n",
    "    <li> There are less click throughs on the site since the new web design.</li>\n",
    "    <li> There are less new customer sales since the new tv ad aired.</li>\n",
    "        </ol>\n",
    "        \n",
    "# Type I error:\n",
    "A type I error is when we reject the null hypothesis, but, in reality, the null hypothesis is true.\n",
    "<ol>\n",
    "    <li>Type I error occurred because the web dev class in Dallas was not counted.  </li>\n",
    "    <li> Type I error occured because class time entry was not accurately recorded.</li>\n",
    "    <li> Type I error occurred because some students were absent and they didn't give their coffee preference. </li>\n",
    " </ol>\n",
    "     \n",
    "# Type II Error\n",
    "A type II error is when we fail to reject the null hypothesis when it is actually false.\n",
    "<ol>\n",
    "    <li> Type II error occured because all of the web dev grades are up to date but the data science grades are not </li>\n",
    "    <li> The type II error occured because the grades had been given a curve. </li>\n",
    "    <li> The web dev students thought coffee meant any caffeinated beverage and filled out the survey incorrectly. </li>\n",
    "    </ol>"
   ]
  },
  {
   "cell_type": "markdown",
   "metadata": {},
   "source": [
    "Ace Realty wants to determine whether the average time it takes to sell homes is different for its two offices. A sample of 40 sales from office #1 revealed a mean of 90 days and a standard deviation of 15 days. A sample of 50 sales from office #2 revealed a mean of 100 days and a standard deviation of 20 days. Use a .05 level of significance."
   ]
  },
  {
   "cell_type": "code",
   "execution_count": 13,
   "metadata": {},
   "outputs": [],
   "source": [
    "#H0: There is no difference in the time it takes to sell a home between the two offices.\n",
    "#H1: There is a difference in the time it takes to sell the home between the two houses.\n",
    "alpha=0.05\n",
    "sample_1 = 40\n",
    "sample_2 = 50\n",
    "mean_1 = 90\n",
    "mean_2 = 100\n",
    "stddev1 = 15\n",
    "stddev2 = 20"
   ]
  },
  {
   "cell_type": "code",
   "execution_count": 14,
   "metadata": {},
   "outputs": [
    {
     "data": {
      "text/plain": [
       "2.0"
      ]
     },
     "execution_count": 14,
     "metadata": {},
     "output_type": "execute_result"
    }
   ],
   "source": [
    "t_test= (mean_1-mean_2)/ (stddev1-stddev2)\n",
    "t_test"
   ]
  },
  {
   "cell_type": "code",
   "execution_count": 91,
   "metadata": {},
   "outputs": [
    {
     "ename": "SyntaxError",
     "evalue": "invalid syntax (<ipython-input-91-89d94fc80c98>, line 1)",
     "output_type": "error",
     "traceback": [
      "\u001b[0;36m  File \u001b[0;32m\"<ipython-input-91-89d94fc80c98>\"\u001b[0;36m, line \u001b[0;32m1\u001b[0m\n\u001b[0;31m    p_test=\u001b[0m\n\u001b[0m            ^\u001b[0m\n\u001b[0;31mSyntaxError\u001b[0m\u001b[0;31m:\u001b[0m invalid syntax\n"
     ]
    }
   ],
   "source": [
    "p_test= \n",
    "\n",
    "p = (1 - t.cdf(abs(t_stat), df)) * 2"
   ]
  },
  {
   "cell_type": "code",
   "execution_count": null,
   "metadata": {},
   "outputs": [],
   "source": [
    "from pydataset import data"
   ]
  },
  {
   "cell_type": "code",
   "execution_count": null,
   "metadata": {},
   "outputs": [],
   "source": [
    "#Load the mpg dataset and use it to answer the following questions:\n",
    "mpg = data('mpg')\n",
    "mpg"
   ]
  },
  {
   "cell_type": "markdown",
   "metadata": {},
   "source": [
    "Is there a difference in fuel-efficiency in cars from 2008 vs 1999?\n",
    "Are compact cars more fuel-efficient than the average car?\n",
    "Do manual cars get better gas mileage than automatic cars?"
   ]
  },
  {
   "cell_type": "markdown",
   "metadata": {},
   "source": [
    "Use the telco_churn data. Does tenure correlate with monthly charges? \n",
    "Total charges? \n",
    "What happens if you control for phone and internet service?"
   ]
  },
  {
   "cell_type": "code",
   "execution_count": null,
   "metadata": {},
   "outputs": [],
   "source": [
    "\n",
    "telco= pd.read_csv(\"telco.csv\")\n",
    "telco.info()\n",
    "# h0: There is no correlation between monthly tenure and monthly charges\n",
    "# h1: The higher the monthly tenure, the higher the monthly charges.\n",
    "# h2: The higher the monthly tenure, the lower the monthly charges."
   ]
  },
  {
   "cell_type": "code",
   "execution_count": null,
   "metadata": {},
   "outputs": [],
   "source": [
    "n = telco.shape[0]     # number of observations\n",
    "degf = n - 2        # degrees of freedom: the # of values in the final calculation of a statistic that are free to vary.\n",
    "conf_interval = .95 # desired confidence interval\n",
    "α = 1 - conf_interval"
   ]
  },
  {
   "cell_type": "code",
   "execution_count": null,
   "metadata": {},
   "outputs": [],
   "source": [
    "#defining our variables for correlation\n",
    "x = telco.monthly_tenure\n",
    "y = telco.monthly_charges\n",
    "#calculating our standard deviation\n",
    "def stdev(x):\n",
    "    variance = ((x - x.mean()) ** 2).sum() / n\n",
    "    return math.sqrt(variance)"
   ]
  },
  {
   "cell_type": "code",
   "execution_count": null,
   "metadata": {
    "scrolled": true
   },
   "outputs": [],
   "source": [
    "#calculating pearson correlation coefficient\n",
    "r_xy = (((x - x.mean()) * (y - y.mean())).sum() / n) / (stdev(x) * stdev(y))\n",
    "r_xy"
   ]
  },
  {
   "cell_type": "code",
   "execution_count": null,
   "metadata": {},
   "outputs": [],
   "source": [
    "#calculating corresponding p value\n",
    "t = (r_xy * (math.sqrt(n - 2)) / math.sqrt(1 - r_xy**2))\n",
    "t\n",
    "p = stats.t.sf(t, df=degf) * 2\n",
    "p"
   ]
  },
  {
   "cell_type": "code",
   "execution_count": null,
   "metadata": {},
   "outputs": [],
   "source": [
    "##comparing my p value against my α\n",
    "p < α"
   ]
  },
  {
   "cell_type": "code",
   "execution_count": null,
   "metadata": {},
   "outputs": [],
   "source": [
    "corr, p = stats.pearsonr(x, y)\n",
    "corr, p"
   ]
  },
  {
   "cell_type": "code",
   "execution_count": null,
   "metadata": {},
   "outputs": [],
   "source": [
    "r, p = stats.pearsonr(telco.monthly_tenure, telco.monthly_charges)\n",
    "\n",
    "telco.plot.scatter('monthly_tenure', 'monthly_charges')\n",
    "plt.title('Monthly Tenure vs Monthly Charges')\n",
    "plt.text(8, 80, f'r = {r:.3f}')"
   ]
  },
  {
   "cell_type": "code",
   "execution_count": null,
   "metadata": {},
   "outputs": [],
   "source": [
    "n = telco.shape[0]     # number of observations\n",
    "degf = n - 2        # degrees of freedom: the # of values in the final calculation of a statistic that are free to vary.\n",
    "conf_interval = .95 # desired confidence interval\n",
    "α = 1 - conf_interval"
   ]
  },
  {
   "cell_type": "code",
   "execution_count": null,
   "metadata": {},
   "outputs": [],
   "source": [
    "#defining our variables for correlation\n",
    "x = telco.monthly_tenure\n",
    "b = telco.total_charges\n",
    "#calculating our standard deviation\n",
    "def stdev(x):\n",
    "    variance = ((x - x.mean()) ** 2).sum() / n\n",
    "    return math.sqrt(variance)"
   ]
  },
  {
   "cell_type": "code",
   "execution_count": null,
   "metadata": {},
   "outputs": [],
   "source": [
    "#calculating pearson correlation coefficient\n",
    "r_xb = (((x - x.mean()) * (b- b.mean())).sum() / n) / (stdev(x) * stdev(b))\n",
    "r_xb"
   ]
  },
  {
   "cell_type": "code",
   "execution_count": null,
   "metadata": {},
   "outputs": [],
   "source": [
    "#calculating corresponding p value\n",
    "t = (r_xb * (math.sqrt(n - 2)) / math.sqrt(1 - r_xb**2))\n",
    "p = stats.t.sf(t, df=degf) * 2\n",
    "p"
   ]
  },
  {
   "cell_type": "code",
   "execution_count": null,
   "metadata": {},
   "outputs": [],
   "source": [
    "##comparing my p value against my α\n",
    "p < α"
   ]
  },
  {
   "cell_type": "code",
   "execution_count": null,
   "metadata": {},
   "outputs": [],
   "source": [
    "## removing nans\n",
    "np.isnan(b).any()\n",
    "b= np.nan_to_num(b)\n",
    "corr, p = stats.pearsonr(x, b)\n",
    "corr, p"
   ]
  },
  {
   "cell_type": "code",
   "execution_count": null,
   "metadata": {},
   "outputs": [],
   "source": [
    "sns.relplot(data=telco, y='monthly_charges', x='monthly_tenure', col='phone')\n",
    "phone_vs_total=sns.relplot(data=telco, y='total_charges', x='monthly_tenure', col='phone')"
   ]
  },
  {
   "cell_type": "code",
   "execution_count": null,
   "metadata": {},
   "outputs": [],
   "source": [
    "sns.relplot(data=telco, y='monthly_charges', x='monthly_tenure', col='internet')\n",
    "sns.relplot(data=telco, y='total_charges', x='monthly_tenure', col='internet')"
   ]
  },
  {
   "cell_type": "code",
   "execution_count": null,
   "metadata": {},
   "outputs": [],
   "source": [
    "sns.relplot(data=telco, y='monthly_charges', x='monthly_tenure', col='phone_or_internet_or_both')\n",
    "sns.relplot(data=telco, y='total_charges', x='monthly_tenure', col='phone_or_internet_or_both')"
   ]
  },
  {
   "cell_type": "markdown",
   "metadata": {},
   "source": [
    "Use the employees database.\n",
    "Is there a relationship between how long an employee has been with the company and their salary?\n",
    "Is there a relationship between how long an employee has been with the company and the number of titles they have had?"
   ]
  },
  {
   "cell_type": "code",
   "execution_count": 18,
   "metadata": {},
   "outputs": [],
   "source": [
    "##get database log in information\n",
    "def get_db_url(db, user=user, host=host, password=password):\n",
    "    return f'mysql+pymysql://{user}:{password}@{host}/{db}'"
   ]
  },
  {
   "cell_type": "code",
   "execution_count": null,
   "metadata": {},
   "outputs": [],
   "source": [
    "##make employees CSV file\n",
    "sql_query = 'SELECT * FROM employees'\n",
    "\n",
    "employees = pd.read_sql(sql_query, get_db_url('employees'))\n",
    "employees.to_csv('employees.csv')\n",
    "\n",
    "employees = pd.read_csv('employees.csv', index_col=0)\n",
    "employees.head()"
   ]
  },
  {
   "cell_type": "code",
   "execution_count": 30,
   "metadata": {},
   "outputs": [
    {
     "data": {
      "text/html": [
       "<div>\n",
       "<style scoped>\n",
       "    .dataframe tbody tr th:only-of-type {\n",
       "        vertical-align: middle;\n",
       "    }\n",
       "\n",
       "    .dataframe tbody tr th {\n",
       "        vertical-align: top;\n",
       "    }\n",
       "\n",
       "    .dataframe thead th {\n",
       "        text-align: right;\n",
       "    }\n",
       "</style>\n",
       "<table border=\"1\" class=\"dataframe\">\n",
       "  <thead>\n",
       "    <tr style=\"text-align: right;\">\n",
       "      <th></th>\n",
       "      <th>emp_no</th>\n",
       "      <th>title</th>\n",
       "      <th>from_date</th>\n",
       "      <th>to_date</th>\n",
       "    </tr>\n",
       "  </thead>\n",
       "  <tbody>\n",
       "    <tr>\n",
       "      <th>0</th>\n",
       "      <td>10001</td>\n",
       "      <td>Senior Engineer</td>\n",
       "      <td>1986-06-26</td>\n",
       "      <td>9999-01-01</td>\n",
       "    </tr>\n",
       "    <tr>\n",
       "      <th>1</th>\n",
       "      <td>10002</td>\n",
       "      <td>Staff</td>\n",
       "      <td>1996-08-03</td>\n",
       "      <td>9999-01-01</td>\n",
       "    </tr>\n",
       "    <tr>\n",
       "      <th>2</th>\n",
       "      <td>10003</td>\n",
       "      <td>Senior Engineer</td>\n",
       "      <td>1995-12-03</td>\n",
       "      <td>9999-01-01</td>\n",
       "    </tr>\n",
       "    <tr>\n",
       "      <th>3</th>\n",
       "      <td>10004</td>\n",
       "      <td>Engineer</td>\n",
       "      <td>1986-12-01</td>\n",
       "      <td>1995-12-01</td>\n",
       "    </tr>\n",
       "    <tr>\n",
       "      <th>4</th>\n",
       "      <td>10004</td>\n",
       "      <td>Senior Engineer</td>\n",
       "      <td>1995-12-01</td>\n",
       "      <td>9999-01-01</td>\n",
       "    </tr>\n",
       "  </tbody>\n",
       "</table>\n",
       "</div>"
      ],
      "text/plain": [
       "   emp_no            title   from_date     to_date\n",
       "0   10001  Senior Engineer  1986-06-26  9999-01-01\n",
       "1   10002            Staff  1996-08-03  9999-01-01\n",
       "2   10003  Senior Engineer  1995-12-03  9999-01-01\n",
       "3   10004         Engineer  1986-12-01  1995-12-01\n",
       "4   10004  Senior Engineer  1995-12-01  9999-01-01"
      ]
     },
     "execution_count": 30,
     "metadata": {},
     "output_type": "execute_result"
    }
   ],
   "source": [
    "##make titles CSV file\n",
    "sql_query = 'SELECT * FROM titles'\n",
    "titles = pd.read_sql(sql_query, get_db_url('employees'))\n",
    "titles.to_csv('titles.csv')\n",
    "\n",
    "titles= pd.read_csv('titles.csv', index_col=0)\n",
    "titles.head()"
   ]
  },
  {
   "cell_type": "code",
   "execution_count": 39,
   "metadata": {},
   "outputs": [
    {
     "data": {
      "text/html": [
       "<div>\n",
       "<style scoped>\n",
       "    .dataframe tbody tr th:only-of-type {\n",
       "        vertical-align: middle;\n",
       "    }\n",
       "\n",
       "    .dataframe tbody tr th {\n",
       "        vertical-align: top;\n",
       "    }\n",
       "\n",
       "    .dataframe thead th {\n",
       "        text-align: right;\n",
       "    }\n",
       "</style>\n",
       "<table border=\"1\" class=\"dataframe\">\n",
       "  <thead>\n",
       "    <tr style=\"text-align: right;\">\n",
       "      <th></th>\n",
       "      <th>salary</th>\n",
       "      <th>from_date</th>\n",
       "      <th>to_date</th>\n",
       "    </tr>\n",
       "    <tr>\n",
       "      <th>emp_no</th>\n",
       "      <th></th>\n",
       "      <th></th>\n",
       "      <th></th>\n",
       "    </tr>\n",
       "  </thead>\n",
       "  <tbody>\n",
       "    <tr>\n",
       "      <th>10001</th>\n",
       "      <td>60117</td>\n",
       "      <td>1986-06-26</td>\n",
       "      <td>1987-06-26</td>\n",
       "    </tr>\n",
       "    <tr>\n",
       "      <th>10001</th>\n",
       "      <td>62102</td>\n",
       "      <td>1987-06-26</td>\n",
       "      <td>1988-06-25</td>\n",
       "    </tr>\n",
       "    <tr>\n",
       "      <th>10001</th>\n",
       "      <td>66074</td>\n",
       "      <td>1988-06-25</td>\n",
       "      <td>1989-06-25</td>\n",
       "    </tr>\n",
       "    <tr>\n",
       "      <th>10001</th>\n",
       "      <td>66596</td>\n",
       "      <td>1989-06-25</td>\n",
       "      <td>1990-06-25</td>\n",
       "    </tr>\n",
       "    <tr>\n",
       "      <th>10001</th>\n",
       "      <td>66961</td>\n",
       "      <td>1990-06-25</td>\n",
       "      <td>1991-06-25</td>\n",
       "    </tr>\n",
       "  </tbody>\n",
       "</table>\n",
       "</div>"
      ],
      "text/plain": [
       "        salary   from_date     to_date\n",
       "emp_no                                \n",
       "10001    60117  1986-06-26  1987-06-26\n",
       "10001    62102  1987-06-26  1988-06-25\n",
       "10001    66074  1988-06-25  1989-06-25\n",
       "10001    66596  1989-06-25  1990-06-25\n",
       "10001    66961  1990-06-25  1991-06-25"
      ]
     },
     "execution_count": 39,
     "metadata": {},
     "output_type": "execute_result"
    }
   ],
   "source": [
    "## Jupyter notebook wasn't loading my SQL file, so I went in directly and downloaded salaries in a csv\n",
    "salaries= pd.read_csv('salaries.csv', index_col=0)\n",
    "salaries.head()"
   ]
  },
  {
   "cell_type": "code",
   "execution_count": 71,
   "metadata": {},
   "outputs": [
    {
     "data": {
      "text/html": [
       "<div>\n",
       "<style scoped>\n",
       "    .dataframe tbody tr th:only-of-type {\n",
       "        vertical-align: middle;\n",
       "    }\n",
       "\n",
       "    .dataframe tbody tr th {\n",
       "        vertical-align: top;\n",
       "    }\n",
       "\n",
       "    .dataframe thead th {\n",
       "        text-align: right;\n",
       "    }\n",
       "</style>\n",
       "<table border=\"1\" class=\"dataframe\">\n",
       "  <thead>\n",
       "    <tr style=\"text-align: right;\">\n",
       "      <th></th>\n",
       "      <th>emp_no</th>\n",
       "      <th>birth_date</th>\n",
       "      <th>first_name</th>\n",
       "      <th>last_name</th>\n",
       "      <th>gender</th>\n",
       "      <th>hire_date</th>\n",
       "      <th>salary</th>\n",
       "      <th>from_date_x</th>\n",
       "      <th>to_date_x</th>\n",
       "      <th>title</th>\n",
       "      <th>from_date_y</th>\n",
       "      <th>to_date_y</th>\n",
       "    </tr>\n",
       "  </thead>\n",
       "  <tbody>\n",
       "    <tr>\n",
       "      <th>0</th>\n",
       "      <td>10001</td>\n",
       "      <td>1953-09-02</td>\n",
       "      <td>Georgi</td>\n",
       "      <td>Facello</td>\n",
       "      <td>M</td>\n",
       "      <td>1986-06-26</td>\n",
       "      <td>60117</td>\n",
       "      <td>1986-06-26</td>\n",
       "      <td>1987-06-26</td>\n",
       "      <td>Senior Engineer</td>\n",
       "      <td>1986-06-26</td>\n",
       "      <td>9999-01-01</td>\n",
       "    </tr>\n",
       "    <tr>\n",
       "      <th>1</th>\n",
       "      <td>10001</td>\n",
       "      <td>1953-09-02</td>\n",
       "      <td>Georgi</td>\n",
       "      <td>Facello</td>\n",
       "      <td>M</td>\n",
       "      <td>1986-06-26</td>\n",
       "      <td>62102</td>\n",
       "      <td>1987-06-26</td>\n",
       "      <td>1988-06-25</td>\n",
       "      <td>Senior Engineer</td>\n",
       "      <td>1986-06-26</td>\n",
       "      <td>9999-01-01</td>\n",
       "    </tr>\n",
       "    <tr>\n",
       "      <th>2</th>\n",
       "      <td>10001</td>\n",
       "      <td>1953-09-02</td>\n",
       "      <td>Georgi</td>\n",
       "      <td>Facello</td>\n",
       "      <td>M</td>\n",
       "      <td>1986-06-26</td>\n",
       "      <td>66074</td>\n",
       "      <td>1988-06-25</td>\n",
       "      <td>1989-06-25</td>\n",
       "      <td>Senior Engineer</td>\n",
       "      <td>1986-06-26</td>\n",
       "      <td>9999-01-01</td>\n",
       "    </tr>\n",
       "    <tr>\n",
       "      <th>3</th>\n",
       "      <td>10001</td>\n",
       "      <td>1953-09-02</td>\n",
       "      <td>Georgi</td>\n",
       "      <td>Facello</td>\n",
       "      <td>M</td>\n",
       "      <td>1986-06-26</td>\n",
       "      <td>66596</td>\n",
       "      <td>1989-06-25</td>\n",
       "      <td>1990-06-25</td>\n",
       "      <td>Senior Engineer</td>\n",
       "      <td>1986-06-26</td>\n",
       "      <td>9999-01-01</td>\n",
       "    </tr>\n",
       "    <tr>\n",
       "      <th>4</th>\n",
       "      <td>10001</td>\n",
       "      <td>1953-09-02</td>\n",
       "      <td>Georgi</td>\n",
       "      <td>Facello</td>\n",
       "      <td>M</td>\n",
       "      <td>1986-06-26</td>\n",
       "      <td>66961</td>\n",
       "      <td>1990-06-25</td>\n",
       "      <td>1991-06-25</td>\n",
       "      <td>Senior Engineer</td>\n",
       "      <td>1986-06-26</td>\n",
       "      <td>9999-01-01</td>\n",
       "    </tr>\n",
       "    <tr>\n",
       "      <th>...</th>\n",
       "      <td>...</td>\n",
       "      <td>...</td>\n",
       "      <td>...</td>\n",
       "      <td>...</td>\n",
       "      <td>...</td>\n",
       "      <td>...</td>\n",
       "      <td>...</td>\n",
       "      <td>...</td>\n",
       "      <td>...</td>\n",
       "      <td>...</td>\n",
       "      <td>...</td>\n",
       "      <td>...</td>\n",
       "    </tr>\n",
       "    <tr>\n",
       "      <th>1621</th>\n",
       "      <td>10100</td>\n",
       "      <td>1953-04-21</td>\n",
       "      <td>Hironobu</td>\n",
       "      <td>Haraldson</td>\n",
       "      <td>F</td>\n",
       "      <td>1987-09-21</td>\n",
       "      <td>74365</td>\n",
       "      <td>2000-09-17</td>\n",
       "      <td>2001-09-17</td>\n",
       "      <td>Senior Staff</td>\n",
       "      <td>1994-09-21</td>\n",
       "      <td>9999-01-01</td>\n",
       "    </tr>\n",
       "    <tr>\n",
       "      <th>1622</th>\n",
       "      <td>10100</td>\n",
       "      <td>1953-04-21</td>\n",
       "      <td>Hironobu</td>\n",
       "      <td>Haraldson</td>\n",
       "      <td>F</td>\n",
       "      <td>1987-09-21</td>\n",
       "      <td>74365</td>\n",
       "      <td>2000-09-17</td>\n",
       "      <td>2001-09-17</td>\n",
       "      <td>Staff</td>\n",
       "      <td>1987-09-21</td>\n",
       "      <td>1994-09-21</td>\n",
       "    </tr>\n",
       "    <tr>\n",
       "      <th>1623</th>\n",
       "      <td>10100</td>\n",
       "      <td>1953-04-21</td>\n",
       "      <td>Hironobu</td>\n",
       "      <td>Haraldson</td>\n",
       "      <td>F</td>\n",
       "      <td>1987-09-21</td>\n",
       "      <td>74957</td>\n",
       "      <td>2001-09-17</td>\n",
       "      <td>9999-01-01</td>\n",
       "      <td>Senior Staff</td>\n",
       "      <td>1994-09-21</td>\n",
       "      <td>9999-01-01</td>\n",
       "    </tr>\n",
       "    <tr>\n",
       "      <th>1624</th>\n",
       "      <td>10100</td>\n",
       "      <td>1953-04-21</td>\n",
       "      <td>Hironobu</td>\n",
       "      <td>Haraldson</td>\n",
       "      <td>F</td>\n",
       "      <td>1987-09-21</td>\n",
       "      <td>74957</td>\n",
       "      <td>2001-09-17</td>\n",
       "      <td>9999-01-01</td>\n",
       "      <td>Staff</td>\n",
       "      <td>1987-09-21</td>\n",
       "      <td>1994-09-21</td>\n",
       "    </tr>\n",
       "    <tr>\n",
       "      <th>1625</th>\n",
       "      <td>10101</td>\n",
       "      <td>1952-04-15</td>\n",
       "      <td>Perla</td>\n",
       "      <td>Heyers</td>\n",
       "      <td>F</td>\n",
       "      <td>1992-12-28</td>\n",
       "      <td>66591</td>\n",
       "      <td>1998-10-14</td>\n",
       "      <td>1999-10-14</td>\n",
       "      <td>Staff</td>\n",
       "      <td>1998-10-14</td>\n",
       "      <td>2000-09-23</td>\n",
       "    </tr>\n",
       "  </tbody>\n",
       "</table>\n",
       "<p>1626 rows × 12 columns</p>\n",
       "</div>"
      ],
      "text/plain": [
       "      emp_no  birth_date first_name  last_name gender   hire_date  salary  \\\n",
       "0      10001  1953-09-02     Georgi    Facello      M  1986-06-26   60117   \n",
       "1      10001  1953-09-02     Georgi    Facello      M  1986-06-26   62102   \n",
       "2      10001  1953-09-02     Georgi    Facello      M  1986-06-26   66074   \n",
       "3      10001  1953-09-02     Georgi    Facello      M  1986-06-26   66596   \n",
       "4      10001  1953-09-02     Georgi    Facello      M  1986-06-26   66961   \n",
       "...      ...         ...        ...        ...    ...         ...     ...   \n",
       "1621   10100  1953-04-21   Hironobu  Haraldson      F  1987-09-21   74365   \n",
       "1622   10100  1953-04-21   Hironobu  Haraldson      F  1987-09-21   74365   \n",
       "1623   10100  1953-04-21   Hironobu  Haraldson      F  1987-09-21   74957   \n",
       "1624   10100  1953-04-21   Hironobu  Haraldson      F  1987-09-21   74957   \n",
       "1625   10101  1952-04-15      Perla     Heyers      F  1992-12-28   66591   \n",
       "\n",
       "     from_date_x   to_date_x            title from_date_y   to_date_y  \n",
       "0     1986-06-26  1987-06-26  Senior Engineer  1986-06-26  9999-01-01  \n",
       "1     1987-06-26  1988-06-25  Senior Engineer  1986-06-26  9999-01-01  \n",
       "2     1988-06-25  1989-06-25  Senior Engineer  1986-06-26  9999-01-01  \n",
       "3     1989-06-25  1990-06-25  Senior Engineer  1986-06-26  9999-01-01  \n",
       "4     1990-06-25  1991-06-25  Senior Engineer  1986-06-26  9999-01-01  \n",
       "...          ...         ...              ...         ...         ...  \n",
       "1621  2000-09-17  2001-09-17     Senior Staff  1994-09-21  9999-01-01  \n",
       "1622  2000-09-17  2001-09-17            Staff  1987-09-21  1994-09-21  \n",
       "1623  2001-09-17  9999-01-01     Senior Staff  1994-09-21  9999-01-01  \n",
       "1624  2001-09-17  9999-01-01            Staff  1987-09-21  1994-09-21  \n",
       "1625  1998-10-14  1999-10-14            Staff  1998-10-14  2000-09-23  \n",
       "\n",
       "[1626 rows x 12 columns]"
      ]
     },
     "execution_count": 71,
     "metadata": {},
     "output_type": "execute_result"
    }
   ],
   "source": [
    "## FINALLY!!! making my employees with salaries and titles dataframe\n",
    "e_w_s= employees.merge(salaries, on='emp_no')\n",
    "e_w_s_t= e_w_s.merge(titles, on='emp_no')\n",
    "e_w_s_t"
   ]
  },
  {
   "cell_type": "code",
   "execution_count": 87,
   "metadata": {},
   "outputs": [
    {
     "data": {
      "text/html": [
       "<div>\n",
       "<style scoped>\n",
       "    .dataframe tbody tr th:only-of-type {\n",
       "        vertical-align: middle;\n",
       "    }\n",
       "\n",
       "    .dataframe tbody tr th {\n",
       "        vertical-align: top;\n",
       "    }\n",
       "\n",
       "    .dataframe thead th {\n",
       "        text-align: right;\n",
       "    }\n",
       "</style>\n",
       "<table border=\"1\" class=\"dataframe\">\n",
       "  <thead>\n",
       "    <tr style=\"text-align: right;\">\n",
       "      <th></th>\n",
       "      <th>emp_no</th>\n",
       "      <th>birth_date</th>\n",
       "      <th>first_name</th>\n",
       "      <th>last_name</th>\n",
       "      <th>gender</th>\n",
       "      <th>hire_date</th>\n",
       "      <th>salary</th>\n",
       "      <th>from_date_x</th>\n",
       "      <th>to_date_x</th>\n",
       "      <th>title</th>\n",
       "      <th>from_date_y</th>\n",
       "      <th>to_date_y</th>\n",
       "      <th>tenure</th>\n",
       "    </tr>\n",
       "  </thead>\n",
       "  <tbody>\n",
       "    <tr>\n",
       "      <th>0</th>\n",
       "      <td>10001</td>\n",
       "      <td>1953-09-02</td>\n",
       "      <td>Georgi</td>\n",
       "      <td>Facello</td>\n",
       "      <td>M</td>\n",
       "      <td>1986-06-26</td>\n",
       "      <td>60117</td>\n",
       "      <td>1986-06-26</td>\n",
       "      <td>1987-06-26</td>\n",
       "      <td>Senior Engineer</td>\n",
       "      <td>1986-06-26</td>\n",
       "      <td>9999-01-01</td>\n",
       "      <td>12489</td>\n",
       "    </tr>\n",
       "    <tr>\n",
       "      <th>1</th>\n",
       "      <td>10001</td>\n",
       "      <td>1953-09-02</td>\n",
       "      <td>Georgi</td>\n",
       "      <td>Facello</td>\n",
       "      <td>M</td>\n",
       "      <td>1986-06-26</td>\n",
       "      <td>62102</td>\n",
       "      <td>1987-06-26</td>\n",
       "      <td>1988-06-25</td>\n",
       "      <td>Senior Engineer</td>\n",
       "      <td>1986-06-26</td>\n",
       "      <td>9999-01-01</td>\n",
       "      <td>12489</td>\n",
       "    </tr>\n",
       "    <tr>\n",
       "      <th>2</th>\n",
       "      <td>10001</td>\n",
       "      <td>1953-09-02</td>\n",
       "      <td>Georgi</td>\n",
       "      <td>Facello</td>\n",
       "      <td>M</td>\n",
       "      <td>1986-06-26</td>\n",
       "      <td>66074</td>\n",
       "      <td>1988-06-25</td>\n",
       "      <td>1989-06-25</td>\n",
       "      <td>Senior Engineer</td>\n",
       "      <td>1986-06-26</td>\n",
       "      <td>9999-01-01</td>\n",
       "      <td>12489</td>\n",
       "    </tr>\n",
       "    <tr>\n",
       "      <th>3</th>\n",
       "      <td>10001</td>\n",
       "      <td>1953-09-02</td>\n",
       "      <td>Georgi</td>\n",
       "      <td>Facello</td>\n",
       "      <td>M</td>\n",
       "      <td>1986-06-26</td>\n",
       "      <td>66596</td>\n",
       "      <td>1989-06-25</td>\n",
       "      <td>1990-06-25</td>\n",
       "      <td>Senior Engineer</td>\n",
       "      <td>1986-06-26</td>\n",
       "      <td>9999-01-01</td>\n",
       "      <td>12489</td>\n",
       "    </tr>\n",
       "    <tr>\n",
       "      <th>4</th>\n",
       "      <td>10001</td>\n",
       "      <td>1953-09-02</td>\n",
       "      <td>Georgi</td>\n",
       "      <td>Facello</td>\n",
       "      <td>M</td>\n",
       "      <td>1986-06-26</td>\n",
       "      <td>66961</td>\n",
       "      <td>1990-06-25</td>\n",
       "      <td>1991-06-25</td>\n",
       "      <td>Senior Engineer</td>\n",
       "      <td>1986-06-26</td>\n",
       "      <td>9999-01-01</td>\n",
       "      <td>12489</td>\n",
       "    </tr>\n",
       "    <tr>\n",
       "      <th>...</th>\n",
       "      <td>...</td>\n",
       "      <td>...</td>\n",
       "      <td>...</td>\n",
       "      <td>...</td>\n",
       "      <td>...</td>\n",
       "      <td>...</td>\n",
       "      <td>...</td>\n",
       "      <td>...</td>\n",
       "      <td>...</td>\n",
       "      <td>...</td>\n",
       "      <td>...</td>\n",
       "      <td>...</td>\n",
       "      <td>...</td>\n",
       "    </tr>\n",
       "    <tr>\n",
       "      <th>1621</th>\n",
       "      <td>10100</td>\n",
       "      <td>1953-04-21</td>\n",
       "      <td>Hironobu</td>\n",
       "      <td>Haraldson</td>\n",
       "      <td>F</td>\n",
       "      <td>1987-09-21</td>\n",
       "      <td>74365</td>\n",
       "      <td>2000-09-17</td>\n",
       "      <td>2001-09-17</td>\n",
       "      <td>Senior Staff</td>\n",
       "      <td>1994-09-21</td>\n",
       "      <td>9999-01-01</td>\n",
       "      <td>12037</td>\n",
       "    </tr>\n",
       "    <tr>\n",
       "      <th>1622</th>\n",
       "      <td>10100</td>\n",
       "      <td>1953-04-21</td>\n",
       "      <td>Hironobu</td>\n",
       "      <td>Haraldson</td>\n",
       "      <td>F</td>\n",
       "      <td>1987-09-21</td>\n",
       "      <td>74365</td>\n",
       "      <td>2000-09-17</td>\n",
       "      <td>2001-09-17</td>\n",
       "      <td>Staff</td>\n",
       "      <td>1987-09-21</td>\n",
       "      <td>1994-09-21</td>\n",
       "      <td>12037</td>\n",
       "    </tr>\n",
       "    <tr>\n",
       "      <th>1623</th>\n",
       "      <td>10100</td>\n",
       "      <td>1953-04-21</td>\n",
       "      <td>Hironobu</td>\n",
       "      <td>Haraldson</td>\n",
       "      <td>F</td>\n",
       "      <td>1987-09-21</td>\n",
       "      <td>74957</td>\n",
       "      <td>2001-09-17</td>\n",
       "      <td>9999-01-01</td>\n",
       "      <td>Senior Staff</td>\n",
       "      <td>1994-09-21</td>\n",
       "      <td>9999-01-01</td>\n",
       "      <td>12037</td>\n",
       "    </tr>\n",
       "    <tr>\n",
       "      <th>1624</th>\n",
       "      <td>10100</td>\n",
       "      <td>1953-04-21</td>\n",
       "      <td>Hironobu</td>\n",
       "      <td>Haraldson</td>\n",
       "      <td>F</td>\n",
       "      <td>1987-09-21</td>\n",
       "      <td>74957</td>\n",
       "      <td>2001-09-17</td>\n",
       "      <td>9999-01-01</td>\n",
       "      <td>Staff</td>\n",
       "      <td>1987-09-21</td>\n",
       "      <td>1994-09-21</td>\n",
       "      <td>12037</td>\n",
       "    </tr>\n",
       "    <tr>\n",
       "      <th>1625</th>\n",
       "      <td>10101</td>\n",
       "      <td>1952-04-15</td>\n",
       "      <td>Perla</td>\n",
       "      <td>Heyers</td>\n",
       "      <td>F</td>\n",
       "      <td>1992-12-28</td>\n",
       "      <td>66591</td>\n",
       "      <td>1998-10-14</td>\n",
       "      <td>1999-10-14</td>\n",
       "      <td>Staff</td>\n",
       "      <td>1998-10-14</td>\n",
       "      <td>2000-09-23</td>\n",
       "      <td>10112</td>\n",
       "    </tr>\n",
       "  </tbody>\n",
       "</table>\n",
       "<p>1626 rows × 13 columns</p>\n",
       "</div>"
      ],
      "text/plain": [
       "      emp_no  birth_date first_name  last_name gender   hire_date  salary  \\\n",
       "0      10001  1953-09-02     Georgi    Facello      M  1986-06-26   60117   \n",
       "1      10001  1953-09-02     Georgi    Facello      M  1986-06-26   62102   \n",
       "2      10001  1953-09-02     Georgi    Facello      M  1986-06-26   66074   \n",
       "3      10001  1953-09-02     Georgi    Facello      M  1986-06-26   66596   \n",
       "4      10001  1953-09-02     Georgi    Facello      M  1986-06-26   66961   \n",
       "...      ...         ...        ...        ...    ...         ...     ...   \n",
       "1621   10100  1953-04-21   Hironobu  Haraldson      F  1987-09-21   74365   \n",
       "1622   10100  1953-04-21   Hironobu  Haraldson      F  1987-09-21   74365   \n",
       "1623   10100  1953-04-21   Hironobu  Haraldson      F  1987-09-21   74957   \n",
       "1624   10100  1953-04-21   Hironobu  Haraldson      F  1987-09-21   74957   \n",
       "1625   10101  1952-04-15      Perla     Heyers      F  1992-12-28   66591   \n",
       "\n",
       "     from_date_x   to_date_x            title from_date_y   to_date_y  tenure  \n",
       "0     1986-06-26  1987-06-26  Senior Engineer  1986-06-26  9999-01-01   12489  \n",
       "1     1987-06-26  1988-06-25  Senior Engineer  1986-06-26  9999-01-01   12489  \n",
       "2     1988-06-25  1989-06-25  Senior Engineer  1986-06-26  9999-01-01   12489  \n",
       "3     1989-06-25  1990-06-25  Senior Engineer  1986-06-26  9999-01-01   12489  \n",
       "4     1990-06-25  1991-06-25  Senior Engineer  1986-06-26  9999-01-01   12489  \n",
       "...          ...         ...              ...         ...         ...     ...  \n",
       "1621  2000-09-17  2001-09-17     Senior Staff  1994-09-21  9999-01-01   12037  \n",
       "1622  2000-09-17  2001-09-17            Staff  1987-09-21  1994-09-21   12037  \n",
       "1623  2001-09-17  9999-01-01     Senior Staff  1994-09-21  9999-01-01   12037  \n",
       "1624  2001-09-17  9999-01-01            Staff  1987-09-21  1994-09-21   12037  \n",
       "1625  1998-10-14  1999-10-14            Staff  1998-10-14  2000-09-23   10112  \n",
       "\n",
       "[1626 rows x 13 columns]"
      ]
     },
     "execution_count": 87,
     "metadata": {},
     "output_type": "execute_result"
    }
   ],
   "source": [
    "e_w_s_t['tenure'] = (pd.to_datetime(\"today\") - pd.to_datetime(e_w_s_t['hire_date']))\n",
    "e_w_s_t['tenure'] = e_w_s_t['tenure'].astype(str).str.split().str[0].astype(int)\n",
    "e_w_s_t"
   ]
  },
  {
   "cell_type": "code",
   "execution_count": 89,
   "metadata": {},
   "outputs": [],
   "source": [
    "n = e_w_s_t.shape[0]     # number of observations\n",
    "degf = n - 2        # degrees of freedom: the # of values in the final calculation of a statistic that are free to vary.\n",
    "conf_interval = .95 # desired confidence interval\n",
    "α = 1 - conf_interval\n",
    "#defining our variables for correlation\n",
    "x = e_w_s_t.tenure\n",
    "y= e_w_s_t.salary\n",
    "#calculating our standard deviation\n",
    "def stdev(x):\n",
    "    variance = ((x - x.mean()) ** 2).sum() / n\n",
    "    return math.sqrt(variance)"
   ]
  },
  {
   "cell_type": "code",
   "execution_count": 92,
   "metadata": {},
   "outputs": [
    {
     "data": {
      "text/plain": [
       "(0.1482781109604029, 1.881031302771544e-09)"
      ]
     },
     "execution_count": 92,
     "metadata": {},
     "output_type": "execute_result"
    }
   ],
   "source": [
    "#calculating pearson correlation coefficient\n",
    "corr, p = stats.pearsonr(x, y)\n",
    "corr, p"
   ]
  },
  {
   "cell_type": "code",
   "execution_count": 95,
   "metadata": {},
   "outputs": [
    {
     "data": {
      "text/plain": [
       "Text(0.5, 1.0, 'Tenure vs Salary')"
      ]
     },
     "execution_count": 95,
     "metadata": {},
     "output_type": "execute_result"
    },
    {
     "data": {
      "image/png": "[encoded data removed]",
      "text/plain": [
       "<Figure size 1152x648 with 1 Axes>"
      ]
     },
     "metadata": {
      "needs_background": "light"
     },
     "output_type": "display_data"
    }
   ],
   "source": [
    "e_w_s_t.plot.scatter('tenure', 'salary')\n",
    "plt.title('Tenure vs Salary')"
   ]
  },
  {
   "cell_type": "markdown",
   "metadata": {},
   "source": [
    "Use the sleepstudy data. Is there a relationship between days and reaction time?"
   ]
  },
  {
   "cell_type": "code",
   "execution_count": 78,
   "metadata": {},
   "outputs": [],
   "source": [
    "sleep = data('sleepstudy')\n",
    "df = pd.DataFrame(sleep)"
   ]
  },
  {
   "cell_type": "code",
   "execution_count": null,
   "metadata": {},
   "outputs": [],
   "source": []
  }
 ],
 "metadata": {
  "kernelspec": {
   "display_name": "Python 3",
   "language": "python",
   "name": "python3"
  },
  "language_info": {
   "codemirror_mode": {
    "name": "ipython",
    "version": 3
   },
   "file_extension": ".py",
   "mimetype": "text/x-python",
   "name": "python",
   "nbconvert_exporter": "python",
   "pygments_lexer": "ipython3",
   "version": "3.7.6"
  }
 },
 "nbformat": 4,
 "nbformat_minor": 4
}
